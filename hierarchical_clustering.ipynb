{
 "cells": [
  {
   "cell_type": "markdown",
   "metadata": {
    "colab_type": "text",
    "id": "JKkbeQi2Mzug"
   },
   "source": [
    "# Hierarchical Clustering"
   ]
  },
  {
   "cell_type": "markdown",
   "metadata": {
    "colab_type": "text",
    "id": "TaQI437hM1Ho"
   },
   "source": [
    "## Importing the libraries"
   ]
  },
  {
   "cell_type": "code",
   "execution_count": 1,
   "metadata": {
    "colab": {},
    "colab_type": "code",
    "id": "2UW48DgcM4YS"
   },
   "outputs": [],
   "source": [
    "import numpy as np\n",
    "import matplotlib.pyplot as plt\n",
    "import pandas as pd"
   ]
  },
  {
   "cell_type": "markdown",
   "metadata": {
    "colab_type": "text",
    "id": "gFeTEtDxM7K4"
   },
   "source": [
    "## Importing the dataset"
   ]
  },
  {
   "cell_type": "code",
   "execution_count": 2,
   "metadata": {},
   "outputs": [],
   "source": [
    "Targ='tds'"
   ]
  },
  {
   "cell_type": "code",
   "execution_count": 3,
   "metadata": {},
   "outputs": [
    {
     "data": {
      "text/html": [
       "<div>\n",
       "<style scoped>\n",
       "    .dataframe tbody tr th:only-of-type {\n",
       "        vertical-align: middle;\n",
       "    }\n",
       "\n",
       "    .dataframe tbody tr th {\n",
       "        vertical-align: top;\n",
       "    }\n",
       "\n",
       "    .dataframe thead th {\n",
       "        text-align: right;\n",
       "    }\n",
       "</style>\n",
       "<table border=\"1\" class=\"dataframe\">\n",
       "  <thead>\n",
       "    <tr style=\"text-align: right;\">\n",
       "      <th></th>\n",
       "      <th>t</th>\n",
       "      <th>sta</th>\n",
       "      <th>ec_mtz</th>\n",
       "      <th>ec_sac</th>\n",
       "      <th>ec_sjr</th>\n",
       "      <th>ec_east</th>\n",
       "      <th>ec_ag</th>\n",
       "      <th>ec</th>\n",
       "      <th>tds</th>\n",
       "      <th>vol</th>\n",
       "    </tr>\n",
       "  </thead>\n",
       "  <tbody>\n",
       "    <tr>\n",
       "      <th>0</th>\n",
       "      <td>3/20/1990</td>\n",
       "      <td>Banks PP</td>\n",
       "      <td>193</td>\n",
       "      <td>152</td>\n",
       "      <td>10.48</td>\n",
       "      <td>6</td>\n",
       "      <td>79.37</td>\n",
       "      <td>445.0</td>\n",
       "      <td>250.0</td>\n",
       "      <td>440.85</td>\n",
       "    </tr>\n",
       "    <tr>\n",
       "      <th>1</th>\n",
       "      <td>4/18/1990</td>\n",
       "      <td>Banks PP</td>\n",
       "      <td>520</td>\n",
       "      <td>155</td>\n",
       "      <td>7.75</td>\n",
       "      <td>4</td>\n",
       "      <td>59.34</td>\n",
       "      <td>706.0</td>\n",
       "      <td>375.0</td>\n",
       "      <td>746.09</td>\n",
       "    </tr>\n",
       "    <tr>\n",
       "      <th>2</th>\n",
       "      <td>5/15/1990</td>\n",
       "      <td>Banks PP</td>\n",
       "      <td>381</td>\n",
       "      <td>132</td>\n",
       "      <td>31.47</td>\n",
       "      <td>3</td>\n",
       "      <td>70.67</td>\n",
       "      <td>698.0</td>\n",
       "      <td>385.0</td>\n",
       "      <td>618.14</td>\n",
       "    </tr>\n",
       "    <tr>\n",
       "      <th>3</th>\n",
       "      <td>6/19/1990</td>\n",
       "      <td>Banks PP</td>\n",
       "      <td>254</td>\n",
       "      <td>126</td>\n",
       "      <td>27.14</td>\n",
       "      <td>6</td>\n",
       "      <td>108.10</td>\n",
       "      <td>615.0</td>\n",
       "      <td>350.0</td>\n",
       "      <td>521.24</td>\n",
       "    </tr>\n",
       "    <tr>\n",
       "      <th>4</th>\n",
       "      <td>7/18/1990</td>\n",
       "      <td>Banks PP</td>\n",
       "      <td>242</td>\n",
       "      <td>150</td>\n",
       "      <td>6.70</td>\n",
       "      <td>2</td>\n",
       "      <td>99.73</td>\n",
       "      <td>385.0</td>\n",
       "      <td>218.0</td>\n",
       "      <td>500.43</td>\n",
       "    </tr>\n",
       "  </tbody>\n",
       "</table>\n",
       "</div>"
      ],
      "text/plain": [
       "           t       sta  ec_mtz  ec_sac  ec_sjr  ec_east   ec_ag     ec    tds  \\\n",
       "0  3/20/1990  Banks PP     193     152   10.48        6   79.37  445.0  250.0   \n",
       "1  4/18/1990  Banks PP     520     155    7.75        4   59.34  706.0  375.0   \n",
       "2  5/15/1990  Banks PP     381     132   31.47        3   70.67  698.0  385.0   \n",
       "3  6/19/1990  Banks PP     254     126   27.14        6  108.10  615.0  350.0   \n",
       "4  7/18/1990  Banks PP     242     150    6.70        2   99.73  385.0  218.0   \n",
       "\n",
       "      vol  \n",
       "0  440.85  \n",
       "1  746.09  \n",
       "2  618.14  \n",
       "3  521.24  \n",
       "4  500.43  "
      ]
     },
     "execution_count": 3,
     "metadata": {},
     "output_type": "execute_result"
    }
   ],
   "source": [
    "dataset = pd.read_csv('tds.csv')\n",
    "dataset.head()"
   ]
  },
  {
   "cell_type": "code",
   "execution_count": 4,
   "metadata": {
    "colab": {},
    "colab_type": "code",
    "id": "4fS2J3HGM99q"
   },
   "outputs": [],
   "source": [
    "dataset = pd.read_csv(\"tds.csv\")\n",
    "x = dataset[['ec_mtz','ec_sac','ec_sjr','ec_east','ec_ag','ec',Targ]]\n",
    "#x = dataset[['ec',Targ]]\n",
    "\n",
    "x = pd.DataFrame(x)"
   ]
  },
  {
   "cell_type": "code",
   "execution_count": 5,
   "metadata": {},
   "outputs": [
    {
     "data": {
      "text/html": [
       "<div>\n",
       "<style scoped>\n",
       "    .dataframe tbody tr th:only-of-type {\n",
       "        vertical-align: middle;\n",
       "    }\n",
       "\n",
       "    .dataframe tbody tr th {\n",
       "        vertical-align: top;\n",
       "    }\n",
       "\n",
       "    .dataframe thead th {\n",
       "        text-align: right;\n",
       "    }\n",
       "</style>\n",
       "<table border=\"1\" class=\"dataframe\">\n",
       "  <thead>\n",
       "    <tr style=\"text-align: right;\">\n",
       "      <th></th>\n",
       "      <th>ec_mtz</th>\n",
       "      <th>ec_sac</th>\n",
       "      <th>ec_sjr</th>\n",
       "      <th>ec_east</th>\n",
       "      <th>ec_ag</th>\n",
       "      <th>ec</th>\n",
       "      <th>tds</th>\n",
       "    </tr>\n",
       "  </thead>\n",
       "  <tbody>\n",
       "    <tr>\n",
       "      <th>0</th>\n",
       "      <td>193</td>\n",
       "      <td>152</td>\n",
       "      <td>10.48</td>\n",
       "      <td>6</td>\n",
       "      <td>79.37</td>\n",
       "      <td>445.0</td>\n",
       "      <td>250.0</td>\n",
       "    </tr>\n",
       "    <tr>\n",
       "      <th>1</th>\n",
       "      <td>520</td>\n",
       "      <td>155</td>\n",
       "      <td>7.75</td>\n",
       "      <td>4</td>\n",
       "      <td>59.34</td>\n",
       "      <td>706.0</td>\n",
       "      <td>375.0</td>\n",
       "    </tr>\n",
       "    <tr>\n",
       "      <th>2</th>\n",
       "      <td>381</td>\n",
       "      <td>132</td>\n",
       "      <td>31.47</td>\n",
       "      <td>3</td>\n",
       "      <td>70.67</td>\n",
       "      <td>698.0</td>\n",
       "      <td>385.0</td>\n",
       "    </tr>\n",
       "    <tr>\n",
       "      <th>3</th>\n",
       "      <td>254</td>\n",
       "      <td>126</td>\n",
       "      <td>27.14</td>\n",
       "      <td>6</td>\n",
       "      <td>108.10</td>\n",
       "      <td>615.0</td>\n",
       "      <td>350.0</td>\n",
       "    </tr>\n",
       "    <tr>\n",
       "      <th>4</th>\n",
       "      <td>242</td>\n",
       "      <td>150</td>\n",
       "      <td>6.70</td>\n",
       "      <td>2</td>\n",
       "      <td>99.73</td>\n",
       "      <td>385.0</td>\n",
       "      <td>218.0</td>\n",
       "    </tr>\n",
       "  </tbody>\n",
       "</table>\n",
       "</div>"
      ],
      "text/plain": [
       "   ec_mtz  ec_sac  ec_sjr  ec_east   ec_ag     ec    tds\n",
       "0     193     152   10.48        6   79.37  445.0  250.0\n",
       "1     520     155    7.75        4   59.34  706.0  375.0\n",
       "2     381     132   31.47        3   70.67  698.0  385.0\n",
       "3     254     126   27.14        6  108.10  615.0  350.0\n",
       "4     242     150    6.70        2   99.73  385.0  218.0"
      ]
     },
     "execution_count": 5,
     "metadata": {},
     "output_type": "execute_result"
    }
   ],
   "source": [
    "x.head()"
   ]
  },
  {
   "cell_type": "markdown",
   "metadata": {
    "colab_type": "text",
    "id": "czYMlG7cNBsu"
   },
   "source": [
    "## Using the dendrogram to find the optimal number of clusters"
   ]
  },
  {
   "cell_type": "code",
   "execution_count": 7,
   "metadata": {
    "colab": {
     "base_uri": "https://localhost:8080/",
     "height": 295
    },
    "colab_type": "code",
    "executionInfo": {
     "elapsed": 5911,
     "status": "ok",
     "timestamp": 1586373368071,
     "user": {
      "displayName": "Hadelin de Ponteves",
      "photoUrl": "https://lh3.googleusercontent.com/a-/AOh14GhEuXdT7eQweUmRPW8_laJuPggSK6hfvpl5a6WBaA=s64",
      "userId": "15047218817161520419"
     },
     "user_tz": -240
    },
    "id": "RDQODpAFNILO",
    "outputId": "89e9ce60-b3b6-4cf8-acd3-c6e00b321a32"
   },
   "outputs": [
    {
     "data": {
      "image/png": "[encoded data removed]",
      "text/plain": [
       "<Figure size 432x288 with 1 Axes>"
      ]
     },
     "metadata": {
      "needs_background": "light"
     },
     "output_type": "display_data"
    }
   ],
   "source": [
    "import scipy.cluster.hierarchy as sch\n",
    "dendrogram = sch.dendrogram(sch.linkage(x, method = 'ward'))\n",
    "plt.title('Dendrogram')\n",
    "plt.xlabel('Observed data')\n",
    "plt.ylabel('Euclidean distances')\n",
    "plt.show()"
   ]
  },
  {
   "cell_type": "markdown",
   "metadata": {
    "colab_type": "text",
    "id": "KDbXbo9INLF6"
   },
   "source": [
    "## Training the Hierarchical Clustering model on the dataset"
   ]
  },
  {
   "cell_type": "code",
   "execution_count": 11,
   "metadata": {
    "colab": {},
    "colab_type": "code",
    "id": "IoH3zs2KNSw6"
   },
   "outputs": [],
   "source": [
    "from sklearn.cluster import AgglomerativeClustering\n",
    "hc = AgglomerativeClustering(n_clusters = 4, affinity = 'euclidean', linkage = 'ward')\n",
    "y_hc = hc.fit_predict(x)\n",
    "y_hc = pd.DataFrame(y_hc)\n",
    "dataset['hc']=y_hc"
   ]
  },
  {
   "cell_type": "markdown",
   "metadata": {
    "colab_type": "text",
    "id": "X-SYG7l9NVmU"
   },
   "source": [
    "## Results"
   ]
  },
  {
   "cell_type": "code",
   "execution_count": 12,
   "metadata": {},
   "outputs": [
    {
     "data": {
      "text/html": [
       "<div>\n",
       "<style scoped>\n",
       "    .dataframe tbody tr th:only-of-type {\n",
       "        vertical-align: middle;\n",
       "    }\n",
       "\n",
       "    .dataframe tbody tr th {\n",
       "        vertical-align: top;\n",
       "    }\n",
       "\n",
       "    .dataframe thead th {\n",
       "        text-align: right;\n",
       "    }\n",
       "</style>\n",
       "<table border=\"1\" class=\"dataframe\">\n",
       "  <thead>\n",
       "    <tr style=\"text-align: right;\">\n",
       "      <th></th>\n",
       "      <th>t</th>\n",
       "      <th>sta</th>\n",
       "      <th>ec_mtz</th>\n",
       "      <th>ec_sac</th>\n",
       "      <th>ec_sjr</th>\n",
       "      <th>ec_east</th>\n",
       "      <th>ec_ag</th>\n",
       "      <th>ec</th>\n",
       "      <th>tds</th>\n",
       "      <th>vol</th>\n",
       "      <th>hc</th>\n",
       "    </tr>\n",
       "  </thead>\n",
       "  <tbody>\n",
       "    <tr>\n",
       "      <th>0</th>\n",
       "      <td>3/20/1990</td>\n",
       "      <td>Banks PP</td>\n",
       "      <td>193</td>\n",
       "      <td>152</td>\n",
       "      <td>10.48</td>\n",
       "      <td>6</td>\n",
       "      <td>79.37</td>\n",
       "      <td>445.0</td>\n",
       "      <td>250.0</td>\n",
       "      <td>440.85</td>\n",
       "      <td>2</td>\n",
       "    </tr>\n",
       "    <tr>\n",
       "      <th>1</th>\n",
       "      <td>4/18/1990</td>\n",
       "      <td>Banks PP</td>\n",
       "      <td>520</td>\n",
       "      <td>155</td>\n",
       "      <td>7.75</td>\n",
       "      <td>4</td>\n",
       "      <td>59.34</td>\n",
       "      <td>706.0</td>\n",
       "      <td>375.0</td>\n",
       "      <td>746.09</td>\n",
       "      <td>2</td>\n",
       "    </tr>\n",
       "    <tr>\n",
       "      <th>2</th>\n",
       "      <td>5/15/1990</td>\n",
       "      <td>Banks PP</td>\n",
       "      <td>381</td>\n",
       "      <td>132</td>\n",
       "      <td>31.47</td>\n",
       "      <td>3</td>\n",
       "      <td>70.67</td>\n",
       "      <td>698.0</td>\n",
       "      <td>385.0</td>\n",
       "      <td>618.14</td>\n",
       "      <td>2</td>\n",
       "    </tr>\n",
       "    <tr>\n",
       "      <th>3</th>\n",
       "      <td>6/19/1990</td>\n",
       "      <td>Banks PP</td>\n",
       "      <td>254</td>\n",
       "      <td>126</td>\n",
       "      <td>27.14</td>\n",
       "      <td>6</td>\n",
       "      <td>108.10</td>\n",
       "      <td>615.0</td>\n",
       "      <td>350.0</td>\n",
       "      <td>521.24</td>\n",
       "      <td>2</td>\n",
       "    </tr>\n",
       "    <tr>\n",
       "      <th>4</th>\n",
       "      <td>7/18/1990</td>\n",
       "      <td>Banks PP</td>\n",
       "      <td>242</td>\n",
       "      <td>150</td>\n",
       "      <td>6.70</td>\n",
       "      <td>2</td>\n",
       "      <td>99.73</td>\n",
       "      <td>385.0</td>\n",
       "      <td>218.0</td>\n",
       "      <td>500.43</td>\n",
       "      <td>2</td>\n",
       "    </tr>\n",
       "  </tbody>\n",
       "</table>\n",
       "</div>"
      ],
      "text/plain": [
       "           t       sta  ec_mtz  ec_sac  ec_sjr  ec_east   ec_ag     ec    tds  \\\n",
       "0  3/20/1990  Banks PP     193     152   10.48        6   79.37  445.0  250.0   \n",
       "1  4/18/1990  Banks PP     520     155    7.75        4   59.34  706.0  375.0   \n",
       "2  5/15/1990  Banks PP     381     132   31.47        3   70.67  698.0  385.0   \n",
       "3  6/19/1990  Banks PP     254     126   27.14        6  108.10  615.0  350.0   \n",
       "4  7/18/1990  Banks PP     242     150    6.70        2   99.73  385.0  218.0   \n",
       "\n",
       "      vol  hc  \n",
       "0  440.85   2  \n",
       "1  746.09   2  \n",
       "2  618.14   2  \n",
       "3  521.24   2  \n",
       "4  500.43   2  "
      ]
     },
     "execution_count": 12,
     "metadata": {},
     "output_type": "execute_result"
    }
   ],
   "source": [
    "dataset.head()"
   ]
  },
  {
   "cell_type": "code",
   "execution_count": 13,
   "metadata": {},
   "outputs": [
    {
     "data": {
      "text/plain": [
       "[<matplotlib.lines.Line2D at 0x25ebee90970>]"
      ]
     },
     "execution_count": 13,
     "metadata": {},
     "output_type": "execute_result"
    },
    {
     "data": {
      "image/png": "[encoded data removed]",
      "text/plain": [
       "<Figure size 432x288 with 1 Axes>"
      ]
     },
     "metadata": {
      "needs_background": "light"
     },
     "output_type": "display_data"
    }
   ],
   "source": [
    "plt.plot(dataset['hc'])"
   ]
  },
  {
   "cell_type": "code",
   "execution_count": 15,
   "metadata": {},
   "outputs": [
    {
     "name": "stdout",
     "output_type": "stream",
     "text": [
      "Banks PP [2]\n",
      "BANKS [2]\n",
      "CLIFTON [2]\n",
      "Clifton Court Intake [2]\n",
      "C9 [2]\n",
      "WSTCANCLIFT [2]\n",
      "DMC [2]\n",
      "OLDR-DMC-CLIFT [2]\n",
      "OLDRIVDMC [2]\n",
      "OLDRIVBACISL [2]\n",
      "CONCOSPP1 [2]\n",
      "STATION09 [2]\n",
      "GRANTOLD [2]\n",
      "SANTAFEBACON [2]\n",
      "MIDDLER [2]\n",
      "NVICWOOD [2]\n",
      "MRIVBACON [2]\n",
      "SANDMOUND [2]\n",
      "ROCKSL [2]\n",
      "NORTHCAN [2]\n",
      "DELTACRCHAN [2]\n",
      "North Bay Aqueduct [2]\n",
      "STATION04B [2]\n",
      "FALSETIP-WEBB [2]\n",
      "MD10 [2]\n",
      "MD10A [2]\n",
      "MD7A [2]\n",
      "P10A [2]\n",
      "P12 [2]\n",
      "P12A [2]\n",
      "P8 [2]\n",
      "D19 [2]\n",
      "D26 [2]\n",
      "D28A [2]\n",
      "C10 [2 0]\n",
      "C10A [2]\n",
      "C3 [2]\n",
      "C7 [2]\n",
      "D10 [1 0 2]\n",
      "D11 [0 2]\n",
      "D12 [0 2]\n",
      "D14A [2]\n",
      "D15 [2 0]\n",
      "D16 [2]\n",
      "D22 [2 0]\n",
      "D24 [2]\n",
      "D4 [0 1 2]\n",
      "D6 [3 1 0 2]\n",
      "D7 [1 3 0 2]\n",
      "D8 [1 0 2]\n",
      "D9 [1 0 2]\n",
      "SJRJERSEY [2]\n",
      "MALLARDIS [0 1 2]\n"
     ]
    }
   ],
   "source": [
    "station = dataset['sta'].unique()\n",
    "for j in station:\n",
    "    print((j),dataset[dataset['sta']== (j)]['hc'].unique())"
   ]
  },
  {
   "cell_type": "code",
   "execution_count": 16,
   "metadata": {},
   "outputs": [
    {
     "name": "stdout",
     "output_type": "stream",
     "text": [
      "Banks PP Zone 1 = 0\n",
      "Banks PP Zone 2 = 0\n",
      "Banks PP Zone 3 = 222\n",
      "Banks PP Zone 4 = 0\n",
      "BANKS Zone 1 = 0\n",
      "BANKS Zone 2 = 0\n",
      "BANKS Zone 3 = 224\n",
      "BANKS Zone 4 = 0\n",
      "CLIFTON Zone 1 = 0\n",
      "CLIFTON Zone 2 = 0\n",
      "CLIFTON Zone 3 = 132\n",
      "CLIFTON Zone 4 = 0\n",
      "Clifton Court Intake Zone 1 = 0\n",
      "Clifton Court Intake Zone 2 = 0\n",
      "Clifton Court Intake Zone 3 = 114\n",
      "Clifton Court Intake Zone 4 = 0\n",
      "C9 Zone 1 = 0\n",
      "C9 Zone 2 = 0\n",
      "C9 Zone 3 = 68\n",
      "C9 Zone 4 = 0\n",
      "WSTCANCLIFT Zone 1 = 0\n",
      "WSTCANCLIFT Zone 2 = 0\n",
      "WSTCANCLIFT Zone 3 = 20\n",
      "WSTCANCLIFT Zone 4 = 0\n",
      "DMC Zone 1 = 0\n",
      "DMC Zone 2 = 0\n",
      "DMC Zone 3 = 104\n",
      "DMC Zone 4 = 0\n",
      "OLDR-DMC-CLIFT Zone 1 = 0\n",
      "OLDR-DMC-CLIFT Zone 2 = 0\n",
      "OLDR-DMC-CLIFT Zone 3 = 15\n",
      "OLDR-DMC-CLIFT Zone 4 = 0\n",
      "OLDRIVDMC Zone 1 = 0\n",
      "OLDRIVDMC Zone 2 = 0\n",
      "OLDRIVDMC Zone 3 = 18\n",
      "OLDRIVDMC Zone 4 = 0\n",
      "OLDRIVBACISL Zone 1 = 0\n",
      "OLDRIVBACISL Zone 2 = 0\n",
      "OLDRIVBACISL Zone 3 = 191\n",
      "OLDRIVBACISL Zone 4 = 0\n",
      "CONCOSPP1 Zone 1 = 0\n",
      "CONCOSPP1 Zone 2 = 0\n",
      "CONCOSPP1 Zone 3 = 192\n",
      "CONCOSPP1 Zone 4 = 0\n",
      "STATION09 Zone 1 = 0\n",
      "STATION09 Zone 2 = 0\n",
      "STATION09 Zone 3 = 183\n",
      "STATION09 Zone 4 = 0\n",
      "GRANTOLD Zone 1 = 0\n",
      "GRANTOLD Zone 2 = 0\n",
      "GRANTOLD Zone 3 = 17\n",
      "GRANTOLD Zone 4 = 0\n",
      "SANTAFEBACON Zone 1 = 0\n",
      "SANTAFEBACON Zone 2 = 0\n",
      "SANTAFEBACON Zone 3 = 18\n",
      "SANTAFEBACON Zone 4 = 0\n",
      "MIDDLER Zone 1 = 0\n",
      "MIDDLER Zone 2 = 0\n",
      "MIDDLER Zone 3 = 95\n",
      "MIDDLER Zone 4 = 0\n",
      "NVICWOOD Zone 1 = 0\n",
      "NVICWOOD Zone 2 = 0\n",
      "NVICWOOD Zone 3 = 18\n",
      "NVICWOOD Zone 4 = 0\n",
      "MRIVBACON Zone 1 = 0\n",
      "MRIVBACON Zone 2 = 0\n",
      "MRIVBACON Zone 3 = 57\n",
      "MRIVBACON Zone 4 = 0\n",
      "SANDMOUND Zone 1 = 0\n",
      "SANDMOUND Zone 2 = 0\n",
      "SANDMOUND Zone 3 = 21\n",
      "SANDMOUND Zone 4 = 0\n",
      "ROCKSL Zone 1 = 0\n",
      "ROCKSL Zone 2 = 0\n",
      "ROCKSL Zone 3 = 32\n",
      "ROCKSL Zone 4 = 0\n",
      "NORTHCAN Zone 1 = 0\n",
      "NORTHCAN Zone 2 = 0\n",
      "NORTHCAN Zone 3 = 17\n",
      "NORTHCAN Zone 4 = 0\n",
      "DELTACRCHAN Zone 1 = 0\n",
      "DELTACRCHAN Zone 2 = 0\n",
      "DELTACRCHAN Zone 3 = 19\n",
      "DELTACRCHAN Zone 4 = 0\n",
      "North Bay Aqueduct Zone 1 = 0\n",
      "North Bay Aqueduct Zone 2 = 0\n",
      "North Bay Aqueduct Zone 3 = 51\n",
      "North Bay Aqueduct Zone 4 = 0\n",
      "STATION04B Zone 1 = 0\n",
      "STATION04B Zone 2 = 0\n",
      "STATION04B Zone 3 = 20\n",
      "STATION04B Zone 4 = 0\n",
      "FALSETIP-WEBB Zone 1 = 0\n",
      "FALSETIP-WEBB Zone 2 = 0\n",
      "FALSETIP-WEBB Zone 3 = 17\n",
      "FALSETIP-WEBB Zone 4 = 0\n",
      "MD10 Zone 1 = 0\n",
      "MD10 Zone 2 = 0\n",
      "MD10 Zone 3 = 58\n",
      "MD10 Zone 4 = 0\n",
      "MD10A Zone 1 = 0\n",
      "MD10A Zone 2 = 0\n",
      "MD10A Zone 3 = 141\n",
      "MD10A Zone 4 = 0\n",
      "MD7A Zone 1 = 0\n",
      "MD7A Zone 2 = 0\n",
      "MD7A Zone 3 = 69\n",
      "MD7A Zone 4 = 0\n",
      "P10A Zone 1 = 0\n",
      "P10A Zone 2 = 0\n",
      "P10A Zone 3 = 70\n",
      "P10A Zone 4 = 0\n",
      "P12 Zone 1 = 0\n",
      "P12 Zone 2 = 0\n",
      "P12 Zone 3 = 18\n",
      "P12 Zone 4 = 0\n",
      "P12A Zone 1 = 0\n",
      "P12A Zone 2 = 0\n",
      "P12A Zone 3 = 51\n",
      "P12A Zone 4 = 0\n",
      "P8 Zone 1 = 0\n",
      "P8 Zone 2 = 0\n",
      "P8 Zone 3 = 193\n",
      "P8 Zone 4 = 0\n",
      "D19 Zone 1 = 0\n",
      "D19 Zone 2 = 0\n",
      "D19 Zone 3 = 98\n",
      "D19 Zone 4 = 0\n",
      "D26 Zone 1 = 0\n",
      "D26 Zone 2 = 0\n",
      "D26 Zone 3 = 196\n",
      "D26 Zone 4 = 0\n",
      "D28A Zone 1 = 0\n",
      "D28A Zone 2 = 0\n",
      "D28A Zone 3 = 193\n",
      "D28A Zone 4 = 0\n",
      "C10 Zone 1 = 1\n",
      "C10 Zone 2 = 0\n",
      "C10 Zone 3 = 178\n",
      "C10 Zone 4 = 0\n",
      "C10A Zone 1 = 0\n",
      "C10A Zone 2 = 0\n",
      "C10A Zone 3 = 21\n",
      "C10A Zone 4 = 0\n",
      "C3 Zone 1 = 0\n",
      "C3 Zone 2 = 0\n",
      "C3 Zone 3 = 173\n",
      "C3 Zone 4 = 0\n",
      "C7 Zone 1 = 0\n",
      "C7 Zone 2 = 0\n",
      "C7 Zone 3 = 69\n",
      "C7 Zone 4 = 0\n",
      "D10 Zone 1 = 14\n",
      "D10 Zone 2 = 32\n",
      "D10 Zone 3 = 23\n",
      "D10 Zone 4 = 0\n",
      "D11 Zone 1 = 36\n",
      "D11 Zone 2 = 0\n",
      "D11 Zone 3 = 32\n",
      "D11 Zone 4 = 0\n",
      "D12 Zone 1 = 37\n",
      "D12 Zone 2 = 0\n",
      "D12 Zone 3 = 32\n",
      "D12 Zone 4 = 0\n",
      "D14A Zone 1 = 0\n",
      "D14A Zone 2 = 0\n",
      "D14A Zone 3 = 69\n",
      "D14A Zone 4 = 0\n",
      "D15 Zone 1 = 4\n",
      "D15 Zone 2 = 0\n",
      "D15 Zone 3 = 64\n",
      "D15 Zone 4 = 0\n",
      "D16 Zone 1 = 0\n",
      "D16 Zone 2 = 0\n",
      "D16 Zone 3 = 69\n",
      "D16 Zone 4 = 0\n",
      "D22 Zone 1 = 17\n",
      "D22 Zone 2 = 0\n",
      "D22 Zone 3 = 52\n",
      "D22 Zone 4 = 0\n",
      "D24 Zone 1 = 0\n",
      "D24 Zone 2 = 0\n",
      "D24 Zone 3 = 69\n",
      "D24 Zone 4 = 0\n",
      "D4 Zone 1 = 76\n",
      "D4 Zone 2 = 2\n",
      "D4 Zone 3 = 118\n",
      "D4 Zone 4 = 0\n",
      "D6 Zone 1 = 32\n",
      "D6 Zone 2 = 67\n",
      "D6 Zone 3 = 23\n",
      "D6 Zone 4 = 73\n",
      "D7 Zone 1 = 45\n",
      "D7 Zone 2 = 90\n",
      "D7 Zone 3 = 54\n",
      "D7 Zone 4 = 2\n",
      "D8 Zone 1 = 63\n",
      "D8 Zone 2 = 73\n",
      "D8 Zone 3 = 59\n",
      "D8 Zone 4 = 0\n",
      "D9 Zone 1 = 13\n",
      "D9 Zone 2 = 33\n",
      "D9 Zone 3 = 22\n",
      "D9 Zone 4 = 0\n",
      "SJRJERSEY Zone 1 = 0\n",
      "SJRJERSEY Zone 2 = 0\n",
      "SJRJERSEY Zone 3 = 20\n",
      "SJRJERSEY Zone 4 = 0\n",
      "MALLARDIS Zone 1 = 94\n",
      "MALLARDIS Zone 2 = 37\n",
      "MALLARDIS Zone 3 = 85\n",
      "MALLARDIS Zone 4 = 0\n"
     ]
    }
   ],
   "source": [
    "for j in station:\n",
    "    for i in range (0,4):\n",
    "        print((j),'Zone',(i+1),'=', dataset[(dataset.sta== j) & (dataset.hc==i)].tds.count())"
   ]
  },
  {
   "cell_type": "code",
   "execution_count": 17,
   "metadata": {},
   "outputs": [
    {
     "name": "stdout",
     "output_type": "stream",
     "text": [
      "Zone = 1 = ['C10' 'D10' 'D11' 'D12' 'D15' 'D22' 'D4' 'D6' 'D7' 'D8' 'D9' 'MALLARDIS']\n",
      "Zone = 2 = ['D10' 'D4' 'D6' 'D7' 'D8' 'D9' 'MALLARDIS']\n",
      "Zone = 3 = ['Banks PP' 'BANKS' 'CLIFTON' 'Clifton Court Intake' 'C9' 'WSTCANCLIFT'\n",
      " 'DMC' 'OLDR-DMC-CLIFT' 'OLDRIVDMC' 'OLDRIVBACISL' 'CONCOSPP1' 'STATION09'\n",
      " 'GRANTOLD' 'SANTAFEBACON' 'MIDDLER' 'NVICWOOD' 'MRIVBACON' 'SANDMOUND'\n",
      " 'ROCKSL' 'NORTHCAN' 'DELTACRCHAN' 'North Bay Aqueduct' 'STATION04B'\n",
      " 'FALSETIP-WEBB' 'MD10' 'MD10A' 'MD7A' 'P10A' 'P12' 'P12A' 'P8' 'D19'\n",
      " 'D26' 'D28A' 'C10' 'C10A' 'C3' 'C7' 'D10' 'D11' 'D12' 'D14A' 'D15' 'D16'\n",
      " 'D22' 'D24' 'D4' 'D6' 'D7' 'D8' 'D9' 'SJRJERSEY' 'MALLARDIS']\n",
      "Zone = 4 = ['D6' 'D7']\n"
     ]
    }
   ],
   "source": [
    "for i in range(0,4):\n",
    "    print('Zone =' ,(i+1), '=', dataset[dataset['hc']== i]['sta'].unique())"
   ]
  },
  {
   "cell_type": "code",
   "execution_count": 23,
   "metadata": {},
   "outputs": [
    {
     "data": {
      "image/png": "[encoded data removed]",
      "text/plain": [
       "<Figure size 432x288 with 1 Axes>"
      ]
     },
     "metadata": {
      "needs_background": "light"
     },
     "output_type": "display_data"
    }
   ],
   "source": [
    "plt.scatter( dataset[dataset['hc']== 0].ec, dataset[dataset['hc']== 0].tds, s = 100, c = 'red', label = 'Cluster 1')\n",
    "plt.scatter( dataset[dataset['hc']== 1].ec, dataset[dataset['hc']== 1].tds, s = 100, c = 'blue', label = 'Cluster 2')\n",
    "plt.scatter( dataset[dataset['hc']== 2].ec, dataset[dataset['hc']== 2].tds, s = 100, c = 'green', label = 'Cluster 3')\n",
    "plt.scatter( dataset[dataset['hc']== 3].ec, dataset[dataset['hc']== 3].tds, s = 100, c = 'cyan', label = 'Cluster 4')\n",
    "plt.title('Clusters_Hierarchical of Ion_TDS')\n",
    "plt.xlabel('EC')\n",
    "plt.ylabel('TDS')\n",
    "plt.legend()\n",
    "plt.show()"
   ]
  },
  {
   "cell_type": "code",
   "execution_count": null,
   "metadata": {},
   "outputs": [],
   "source": []
  }
 ],
 "metadata": {
  "colab": {
   "authorship_tag": "ABX9TyOE/Ghkv22sqrXHjexUJwPA",
   "collapsed_sections": [],
   "name": "Hierarchical Clustering",
   "provenance": [],
   "toc_visible": true
  },
  "kernelspec": {
   "display_name": "Python 3",
   "language": "python",
   "name": "python3"
  },
  "language_info": {
   "codemirror_mode": {
    "name": "ipython",
    "version": 3
   },
   "file_extension": ".py",
   "mimetype": "text/x-python",
   "name": "python",
   "nbconvert_exporter": "python",
   "pygments_lexer": "ipython3",
   "version": "3.8.8"
  }
 },
 "nbformat": 4,
 "nbformat_minor": 1
}

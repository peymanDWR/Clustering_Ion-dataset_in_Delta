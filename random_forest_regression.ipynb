{
 "cells": [
  {
   "cell_type": "markdown",
   "metadata": {
    "colab_type": "text",
    "id": "LeamvpPVXuS_"
   },
   "source": [
    "# Random Forest Regression"
   ]
  },
  {
   "cell_type": "markdown",
   "metadata": {
    "colab_type": "text",
    "id": "O2wvZ7SKXzVC"
   },
   "source": [
    "## Importing the libraries"
   ]
  },
  {
   "cell_type": "code",
   "execution_count": 1,
   "metadata": {
    "colab": {},
    "colab_type": "code",
    "id": "PVmESEFZX4Ig"
   },
   "outputs": [],
   "source": [
    "import numpy as np\n",
    "import matplotlib.pyplot as plt\n",
    "import pandas as pd\n",
    "import holoviews as hv"
   ]
  },
  {
   "cell_type": "markdown",
   "metadata": {
    "colab_type": "text",
    "id": "zgbK_F8-X7em"
   },
   "source": [
    "## Importing the dataset"
   ]
  },
  {
   "cell_type": "code",
   "execution_count": 2,
   "metadata": {},
   "outputs": [],
   "source": [
    "Targ='tds'"
   ]
  },
  {
   "cell_type": "code",
   "execution_count": 3,
   "metadata": {},
   "outputs": [
    {
     "data": {
      "text/html": [
       "<div>\n",
       "<style scoped>\n",
       "    .dataframe tbody tr th:only-of-type {\n",
       "        vertical-align: middle;\n",
       "    }\n",
       "\n",
       "    .dataframe tbody tr th {\n",
       "        vertical-align: top;\n",
       "    }\n",
       "\n",
       "    .dataframe thead th {\n",
       "        text-align: right;\n",
       "    }\n",
       "</style>\n",
       "<table border=\"1\" class=\"dataframe\">\n",
       "  <thead>\n",
       "    <tr style=\"text-align: right;\">\n",
       "      <th></th>\n",
       "      <th>t</th>\n",
       "      <th>sta</th>\n",
       "      <th>ec_mtz</th>\n",
       "      <th>ec_sac</th>\n",
       "      <th>ec_sjr</th>\n",
       "      <th>ec_east</th>\n",
       "      <th>ec_ag</th>\n",
       "      <th>ec</th>\n",
       "      <th>tds</th>\n",
       "      <th>vol</th>\n",
       "    </tr>\n",
       "  </thead>\n",
       "  <tbody>\n",
       "    <tr>\n",
       "      <th>0</th>\n",
       "      <td>3/20/1990</td>\n",
       "      <td>Banks PP</td>\n",
       "      <td>193</td>\n",
       "      <td>152</td>\n",
       "      <td>10.48</td>\n",
       "      <td>6</td>\n",
       "      <td>79.37</td>\n",
       "      <td>445.0</td>\n",
       "      <td>250.0</td>\n",
       "      <td>440.85</td>\n",
       "    </tr>\n",
       "    <tr>\n",
       "      <th>1</th>\n",
       "      <td>4/18/1990</td>\n",
       "      <td>Banks PP</td>\n",
       "      <td>520</td>\n",
       "      <td>155</td>\n",
       "      <td>7.75</td>\n",
       "      <td>4</td>\n",
       "      <td>59.34</td>\n",
       "      <td>706.0</td>\n",
       "      <td>375.0</td>\n",
       "      <td>746.09</td>\n",
       "    </tr>\n",
       "    <tr>\n",
       "      <th>2</th>\n",
       "      <td>5/15/1990</td>\n",
       "      <td>Banks PP</td>\n",
       "      <td>381</td>\n",
       "      <td>132</td>\n",
       "      <td>31.47</td>\n",
       "      <td>3</td>\n",
       "      <td>70.67</td>\n",
       "      <td>698.0</td>\n",
       "      <td>385.0</td>\n",
       "      <td>618.14</td>\n",
       "    </tr>\n",
       "    <tr>\n",
       "      <th>3</th>\n",
       "      <td>6/19/1990</td>\n",
       "      <td>Banks PP</td>\n",
       "      <td>254</td>\n",
       "      <td>126</td>\n",
       "      <td>27.14</td>\n",
       "      <td>6</td>\n",
       "      <td>108.10</td>\n",
       "      <td>615.0</td>\n",
       "      <td>350.0</td>\n",
       "      <td>521.24</td>\n",
       "    </tr>\n",
       "    <tr>\n",
       "      <th>4</th>\n",
       "      <td>7/18/1990</td>\n",
       "      <td>Banks PP</td>\n",
       "      <td>242</td>\n",
       "      <td>150</td>\n",
       "      <td>6.70</td>\n",
       "      <td>2</td>\n",
       "      <td>99.73</td>\n",
       "      <td>385.0</td>\n",
       "      <td>218.0</td>\n",
       "      <td>500.43</td>\n",
       "    </tr>\n",
       "  </tbody>\n",
       "</table>\n",
       "</div>"
      ],
      "text/plain": [
       "           t       sta  ec_mtz  ec_sac  ec_sjr  ec_east   ec_ag     ec    tds  \\\n",
       "0  3/20/1990  Banks PP     193     152   10.48        6   79.37  445.0  250.0   \n",
       "1  4/18/1990  Banks PP     520     155    7.75        4   59.34  706.0  375.0   \n",
       "2  5/15/1990  Banks PP     381     132   31.47        3   70.67  698.0  385.0   \n",
       "3  6/19/1990  Banks PP     254     126   27.14        6  108.10  615.0  350.0   \n",
       "4  7/18/1990  Banks PP     242     150    6.70        2   99.73  385.0  218.0   \n",
       "\n",
       "      vol  \n",
       "0  440.85  \n",
       "1  746.09  \n",
       "2  618.14  \n",
       "3  521.24  \n",
       "4  500.43  "
      ]
     },
     "execution_count": 3,
     "metadata": {},
     "output_type": "execute_result"
    }
   ],
   "source": [
    "dataset = pd.read_csv(\"tds.csv\")\n",
    "dataset.head()"
   ]
  },
  {
   "cell_type": "code",
   "execution_count": 4,
   "metadata": {},
   "outputs": [],
   "source": [
    "dataset = pd.read_csv(\"tds.csv\")\n",
    "x = dataset[['sta','ec_mtz','ec_sac','ec_sjr','ec_east','ec_ag','ec']]\n",
    "y=dataset[Targ]\n",
    "x = pd.DataFrame(x)\n",
    "y = pd.DataFrame(y)\n",
    "df = pd.concat([x, y], axis=1)\n",
    "Station = pd.get_dummies(x['sta'])\n",
    "x.drop(['sta'],axis=1,inplace=True)\n",
    "x=pd.concat([Station, x], axis=1)"
   ]
  },
  {
   "cell_type": "markdown",
   "metadata": {},
   "source": [
    "x = dataset[['sta','ec_mtz','ec_sac','ec_sjr','ec_east','ec_ag','ec']]\n",
    "y=dataset[Targ]\n",
    "x = pd.DataFrame(x)\n",
    "y = pd.DataFrame(y)\n",
    "df = pd.concat([x, y], axis=1)"
   ]
  },
  {
   "cell_type": "code",
   "execution_count": 5,
   "metadata": {
    "colab": {},
    "colab_type": "code",
    "id": "adBE4tjQX_Bh"
   },
   "outputs": [
    {
     "name": "stdout",
     "output_type": "stream",
     "text": [
      "y_test.shape = (503, 1)\n",
      "x_test.shape = (503, 59)\n",
      "y_train.shape = (4522, 1)\n",
      "x_train.shape = (4522, 59)\n"
     ]
    },
    {
     "data": {
      "text/plain": [
       "(None, None)"
      ]
     },
     "execution_count": 5,
     "metadata": {},
     "output_type": "execute_result"
    }
   ],
   "source": [
    "from sklearn.model_selection import train_test_split\n",
    "x_train, x_test, y_train, y_test = train_test_split(x, y, test_size=0.1,random_state=2)\n",
    "print('y_test.shape =',y_test.shape),print('x_test.shape =',x_test.shape),\n",
    "print('y_train.shape =',y_train.shape),print('x_train.shape =',x_train.shape)"
   ]
  },
  {
   "cell_type": "markdown",
   "metadata": {
    "colab_type": "text",
    "id": "v4S2fyIBYDcu"
   },
   "source": [
    "## Training the Random Forest Regression model on the whole dataset"
   ]
  },
  {
   "cell_type": "code",
   "execution_count": 6,
   "metadata": {},
   "outputs": [],
   "source": [
    "#from sklearn.neural_network import MLPRegressor\n",
    "#from sklearn.datasets import make_regression\n",
    "\n",
    "#regressor= MLPRegressor(random_state=1, max_iter=500).fit(X_train, y_train)\n",
    "#regressor= GaussianNB()\n",
    "#regressor.fit(X_train, y_train)"
   ]
  },
  {
   "cell_type": "code",
   "execution_count": 7,
   "metadata": {
    "colab": {
     "base_uri": "https://localhost:8080/",
     "height": 139
    },
    "colab_type": "code",
    "id": "o8dOCoJ1YKMc",
    "outputId": "8894f460-d2de-44ab-d79b-9e69dffb12cb"
   },
   "outputs": [
    {
     "name": "stderr",
     "output_type": "stream",
     "text": [
      "<ipython-input-7-e95a758b9990>:4: DataConversionWarning: A column-vector y was passed when a 1d array was expected. Please change the shape of y to (n_samples,), for example using ravel().\n",
      "  regressor.fit(x_train, y_train)\n"
     ]
    },
    {
     "data": {
      "text/plain": [
       "RandomForestRegressor(random_state=0)"
      ]
     },
     "execution_count": 7,
     "metadata": {},
     "output_type": "execute_result"
    }
   ],
   "source": [
    "from sklearn.ensemble import RandomForestRegressor\n",
    "regressor = RandomForestRegressor(n_estimators = 100, random_state = 0) \n",
    "\n",
    "regressor.fit(x_train, y_train)"
   ]
  },
  {
   "cell_type": "markdown",
   "metadata": {
    "colab_type": "text",
    "id": "8IbsXbK3YM4M"
   },
   "source": [
    "## Predicting a new result"
   ]
  },
  {
   "cell_type": "code",
   "execution_count": 8,
   "metadata": {
    "colab": {
     "base_uri": "https://localhost:8080/",
     "height": 35
    },
    "colab_type": "code",
    "id": "pTXrS8FEYQlJ",
    "outputId": "6bfe8b5e-125c-43ce-ee32-d2f53477e0ee"
   },
   "outputs": [],
   "source": [
    "pred_test=regressor.predict(x_test)\n",
    "pred_train=regressor.predict(x_train)\n",
    "pred=regressor.predict(x)"
   ]
  },
  {
   "cell_type": "markdown",
   "metadata": {
    "colab_type": "text",
    "id": "kLqF9yMbYTon"
   },
   "source": [
    "## Visualising the Random Forest Regression results (higher resolution)"
   ]
  },
  {
   "cell_type": "code",
   "execution_count": 9,
   "metadata": {
    "colab": {
     "base_uri": "https://localhost:8080/",
     "height": 295
    },
    "colab_type": "code",
    "id": "BMlTBifVYWNr",
    "outputId": "71439b75-32b1-444b-a9ee-7ae0672cea82"
   },
   "outputs": [
    {
     "data": {
      "image/png": "[encoded data removed]",
      "text/plain": [
       "<Figure size 432x288 with 1 Axes>"
      ]
     },
     "metadata": {
      "needs_background": "light"
     },
     "output_type": "display_data"
    }
   ],
   "source": [
    "plt.scatter(pred_train,y_train, color = 'blue',label='Train')\n",
    "plt.scatter(pred_test,y_test, color = 'green',label='Test')\n",
    "plt.plot([0,max(pred)+10],[0,max(pred)+10], color = 'red',linewidth=3,label='1 by 1 line')\n",
    "plt.title('(Random Forest Regression)')\n",
    "plt.xlabel('TDS_predicted')\n",
    "plt.ylabel('TDS_Observed')\n",
    "plt.legend()\n",
    "plt.show()"
   ]
  },
  {
   "cell_type": "code",
   "execution_count": 10,
   "metadata": {},
   "outputs": [],
   "source": [
    "from sklearn.metrics import mean_squared_error, mean_absolute_error, r2_score"
   ]
  },
  {
   "cell_type": "code",
   "execution_count": 11,
   "metadata": {},
   "outputs": [
    {
     "name": "stdout",
     "output_type": "stream",
     "text": [
      "r2_Train = 0.9983\n",
      "r2_Test = 0.9894\n",
      "r2_All = 0.9973\n"
     ]
    }
   ],
   "source": [
    "print('r2_Train =',round(r2_score(y_train, pred_train),4)),\n",
    "print('r2_Test =',round(r2_score(y_test, pred_test),4)),\n",
    "print('r2_All =',round(r2_score(y, pred),4))"
   ]
  },
  {
   "cell_type": "code",
   "execution_count": 12,
   "metadata": {},
   "outputs": [
    {
     "name": "stdout",
     "output_type": "stream",
     "text": [
      "MAE_Train = 32.167\n",
      "MAE_Test = 92.162\n",
      "MAE_All = 38.172\n"
     ]
    }
   ],
   "source": [
    "print('MAE_Train =',round(mean_absolute_error(y_train, pred_train),3)),\n",
    "print('MAE_Test =',round(mean_absolute_error(y_test, pred_test),3)),\n",
    "print('MAE_All =',round(mean_absolute_error(y, pred),3))"
   ]
  },
  {
   "cell_type": "code",
   "execution_count": null,
   "metadata": {},
   "outputs": [],
   "source": []
  },
  {
   "cell_type": "code",
   "execution_count": null,
   "metadata": {},
   "outputs": [],
   "source": []
  }
 ],
 "metadata": {
  "colab": {
   "name": "random_forest_regression.ipynb",
   "provenance": [],
   "toc_visible": true
  },
  "kernelspec": {
   "display_name": "Python 3",
   "language": "python",
   "name": "python3"
  },
  "language_info": {
   "codemirror_mode": {
    "name": "ipython",
    "version": 3
   },
   "file_extension": ".py",
   "mimetype": "text/x-python",
   "name": "python",
   "nbconvert_exporter": "python",
   "pygments_lexer": "ipython3",
   "version": "3.8.8"
  }
 },
 "nbformat": 4,
 "nbformat_minor": 1
}
